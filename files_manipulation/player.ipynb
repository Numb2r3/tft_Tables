{
 "cells": [
  {
   "cell_type": "code",
   "execution_count": 1,
   "metadata": {},
   "outputs": [],
   "source": [
    "import pandas as pd\n",
    "import sql_functions as sql_int\n",
    "import Levenshtein"
   ]
  },
  {
   "cell_type": "code",
   "execution_count": 3,
   "metadata": {},
   "outputs": [],
   "source": [
    "schema = 'tft_table'\n",
    "table = 'alternative_name'\n",
    "player_import = pd.read_csv('/program/tft_overview/tft_Tables/data_sheets/name_list_OQ3D1B.csv',\n",
    "                         dtype={'liquipedia_name' : str,'country_flag' : str} )\n",
    "df_player_import = player_import.copy()\n",
    "\n",
    "sql_query = f'SELECT player_id,player_name FROM {schema}.{table};'\n",
    "alternative_name = pd.DataFrame(sql_int.get_data_alchemy(sql_query),\n",
    "                                    columns=['player_id','player_name'])\n",
    "df_alternative_name = alternative_name.copy()\n",
    "\n",
    "## we don't take the player_identitys now to reduce the sql_querys"
   ]
  },
  {
   "cell_type": "markdown",
   "metadata": {},
   "source": [
    "### Testing for duplikates in the imported Names"
   ]
  },
  {
   "cell_type": "code",
   "execution_count": 4,
   "metadata": {},
   "outputs": [
    {
     "data": {
      "text/html": [
       "<div>\n",
       "<style scoped>\n",
       "    .dataframe tbody tr th:only-of-type {\n",
       "        vertical-align: middle;\n",
       "    }\n",
       "\n",
       "    .dataframe tbody tr th {\n",
       "        vertical-align: top;\n",
       "    }\n",
       "\n",
       "    .dataframe thead th {\n",
       "        text-align: right;\n",
       "    }\n",
       "</style>\n",
       "<table border=\"1\" class=\"dataframe\">\n",
       "  <thead>\n",
       "    <tr style=\"text-align: right;\">\n",
       "      <th></th>\n",
       "      <th>import_name</th>\n",
       "    </tr>\n",
       "  </thead>\n",
       "  <tbody>\n",
       "  </tbody>\n",
       "</table>\n",
       "</div>"
      ],
      "text/plain": [
       "Empty DataFrame\n",
       "Columns: [import_name]\n",
       "Index: []"
      ]
     },
     "execution_count": 4,
     "metadata": {},
     "output_type": "execute_result"
    }
   ],
   "source": [
    "df_player_import = df_player_import.rename(columns={'liquipedia_name' : 'import_name'})\n",
    "df_player_import = df_player_import.drop_duplicates()\n",
    "df_player_import[df_player_import.duplicated(keep = False, subset=['import_name']) == True].sort_values(by='import_name')"
   ]
  },
  {
   "cell_type": "markdown",
   "metadata": {},
   "source": [
    "#### delete double entrys"
   ]
  },
  {
   "cell_type": "code",
   "execution_count": 4,
   "metadata": {},
   "outputs": [],
   "source": [
    "df_player_import.drop([148],inplace=True)"
   ]
  },
  {
   "cell_type": "markdown",
   "metadata": {},
   "source": [
    "### Testing which name is new\n"
   ]
  },
  {
   "cell_type": "code",
   "execution_count": 5,
   "metadata": {},
   "outputs": [],
   "source": [
    "# Return only new entrys in a dataframe\n",
    "def check_new(df_new,df_exist,columns):\n",
    "    df_new = df_new.copy()\n",
    "    df_exist = df_exist.copy()\n",
    "    df_exist['already_exist'] = 'Yes'\n",
    "    drop_columns = df_exist.columns.difference(df_new.columns)\n",
    "    df_concat = pd.concat([df_exist,df_new],ignore_index=True)\n",
    "    df_concat = (df_concat\n",
    "                 .drop_duplicates(subset=[columns],keep=False)\n",
    "                 .query('already_exist != \"Yes\"')\n",
    "                 .drop(columns=drop_columns)\n",
    "    )\n",
    "    return df_concat\n"
   ]
  },
  {
   "cell_type": "code",
   "execution_count": 6,
   "metadata": {},
   "outputs": [
    {
     "data": {
      "text/html": [
       "<div>\n",
       "<style scoped>\n",
       "    .dataframe tbody tr th:only-of-type {\n",
       "        vertical-align: middle;\n",
       "    }\n",
       "\n",
       "    .dataframe tbody tr th {\n",
       "        vertical-align: top;\n",
       "    }\n",
       "\n",
       "    .dataframe thead th {\n",
       "        text-align: right;\n",
       "    }\n",
       "</style>\n",
       "<table border=\"1\" class=\"dataframe\">\n",
       "  <thead>\n",
       "    <tr style=\"text-align: right;\">\n",
       "      <th></th>\n",
       "      <th>import_name</th>\n",
       "    </tr>\n",
       "  </thead>\n",
       "  <tbody>\n",
       "    <tr>\n",
       "      <th>1215</th>\n",
       "      <td>destroymanofhell</td>\n",
       "    </tr>\n",
       "    <tr>\n",
       "      <th>1218</th>\n",
       "      <td>razzzzzzzzia</td>\n",
       "    </tr>\n",
       "    <tr>\n",
       "      <th>1221</th>\n",
       "      <td>Jajiro</td>\n",
       "    </tr>\n",
       "    <tr>\n",
       "      <th>1223</th>\n",
       "      <td>VODKA S UTEHA</td>\n",
       "    </tr>\n",
       "    <tr>\n",
       "      <th>1224</th>\n",
       "      <td>dxg señor d</td>\n",
       "    </tr>\n",
       "    <tr>\n",
       "      <th>...</th>\n",
       "      <td>...</td>\n",
       "    </tr>\n",
       "    <tr>\n",
       "      <th>1461</th>\n",
       "      <td>ACE Maumotte</td>\n",
       "    </tr>\n",
       "    <tr>\n",
       "      <th>1466</th>\n",
       "      <td>ACE Softstyle</td>\n",
       "    </tr>\n",
       "    <tr>\n",
       "      <th>1467</th>\n",
       "      <td>LadyWolfyaEUW</td>\n",
       "    </tr>\n",
       "    <tr>\n",
       "      <th>1469</th>\n",
       "      <td>mF xLeon</td>\n",
       "    </tr>\n",
       "    <tr>\n",
       "      <th>1470</th>\n",
       "      <td>boordoon</td>\n",
       "    </tr>\n",
       "  </tbody>\n",
       "</table>\n",
       "<p>125 rows × 1 columns</p>\n",
       "</div>"
      ],
      "text/plain": [
       "           import_name\n",
       "1215  destroymanofhell\n",
       "1218      razzzzzzzzia\n",
       "1221            Jajiro\n",
       "1223     VODKA S UTEHA\n",
       "1224       dxg señor d\n",
       "...                ...\n",
       "1461      ACE Maumotte\n",
       "1466     ACE Softstyle\n",
       "1467     LadyWolfyaEUW\n",
       "1469          mF xLeon\n",
       "1470          boordoon\n",
       "\n",
       "[125 rows x 1 columns]"
      ]
     },
     "execution_count": 6,
     "metadata": {},
     "output_type": "execute_result"
    }
   ],
   "source": [
    "df_player_import = check_new(df_player_import,\n",
    "                             df_alternative_name.rename(columns={'player_name' :'import_name' }),\n",
    "                             'import_name')\n",
    "df_player_import"
   ]
  },
  {
   "cell_type": "code",
   "execution_count": 7,
   "metadata": {},
   "outputs": [
    {
     "data": {
      "text/html": [
       "<div>\n",
       "<style scoped>\n",
       "    .dataframe tbody tr th:only-of-type {\n",
       "        vertical-align: middle;\n",
       "    }\n",
       "\n",
       "    .dataframe tbody tr th {\n",
       "        vertical-align: top;\n",
       "    }\n",
       "\n",
       "    .dataframe thead th {\n",
       "        text-align: right;\n",
       "    }\n",
       "</style>\n",
       "<table border=\"1\" class=\"dataframe\">\n",
       "  <thead>\n",
       "    <tr style=\"text-align: right;\">\n",
       "      <th></th>\n",
       "      <th>player_name</th>\n",
       "      <th>import_name</th>\n",
       "    </tr>\n",
       "  </thead>\n",
       "  <tbody>\n",
       "    <tr>\n",
       "      <th>0</th>\n",
       "      <td>magarky</td>\n",
       "      <td>Novagnark</td>\n",
       "    </tr>\n",
       "    <tr>\n",
       "      <th>1</th>\n",
       "      <td>NwE Kataklio</td>\n",
       "      <td>NwE Faekia</td>\n",
       "    </tr>\n",
       "    <tr>\n",
       "      <th>2</th>\n",
       "      <td>Gech</td>\n",
       "      <td>Gutch</td>\n",
       "    </tr>\n",
       "    <tr>\n",
       "      <th>3</th>\n",
       "      <td>shooku</td>\n",
       "      <td>sjouko</td>\n",
       "    </tr>\n",
       "    <tr>\n",
       "      <th>4</th>\n",
       "      <td>Pyzing</td>\n",
       "      <td>Pyzei</td>\n",
       "    </tr>\n",
       "    <tr>\n",
       "      <th>5</th>\n",
       "      <td>DiFame</td>\n",
       "      <td>DimAle</td>\n",
       "    </tr>\n",
       "    <tr>\n",
       "      <th>6</th>\n",
       "      <td>Uthenera</td>\n",
       "      <td>Otenrab</td>\n",
       "    </tr>\n",
       "    <tr>\n",
       "      <th>7</th>\n",
       "      <td>MyouTwitch</td>\n",
       "      <td>Hypno On Twitch</td>\n",
       "    </tr>\n",
       "    <tr>\n",
       "      <th>8</th>\n",
       "      <td>Momor Vig</td>\n",
       "      <td>Momo Hirai</td>\n",
       "    </tr>\n",
       "    <tr>\n",
       "      <th>9</th>\n",
       "      <td>Yaroy</td>\n",
       "      <td>KK Yaroy</td>\n",
       "    </tr>\n",
       "    <tr>\n",
       "      <th>10</th>\n",
       "      <td>RPT Yaroy</td>\n",
       "      <td>KK Yaroy</td>\n",
       "    </tr>\n",
       "    <tr>\n",
       "      <th>11</th>\n",
       "      <td>Delusional 061</td>\n",
       "      <td>Delusional 061</td>\n",
       "    </tr>\n",
       "    <tr>\n",
       "      <th>12</th>\n",
       "      <td>KRC Jedusor</td>\n",
       "      <td>ACE Jedou</td>\n",
       "    </tr>\n",
       "    <tr>\n",
       "      <th>13</th>\n",
       "      <td>ACE Joe</td>\n",
       "      <td>ACE Jedou</td>\n",
       "    </tr>\n",
       "    <tr>\n",
       "      <th>14</th>\n",
       "      <td>ACE Arestidios</td>\n",
       "      <td>ACE Jedou</td>\n",
       "    </tr>\n",
       "    <tr>\n",
       "      <th>15</th>\n",
       "      <td>Xylander</td>\n",
       "      <td>Xlad</td>\n",
       "    </tr>\n",
       "    <tr>\n",
       "      <th>16</th>\n",
       "      <td>HES Chromantra</td>\n",
       "      <td>KHG Chromantra</td>\n",
       "    </tr>\n",
       "    <tr>\n",
       "      <th>17</th>\n",
       "      <td>Nokah</td>\n",
       "      <td>Nellokay</td>\n",
       "    </tr>\n",
       "    <tr>\n",
       "      <th>18</th>\n",
       "      <td>ACE Joe</td>\n",
       "      <td>ACE Maumotte</td>\n",
       "    </tr>\n",
       "    <tr>\n",
       "      <th>19</th>\n",
       "      <td>Boordoon</td>\n",
       "      <td>boordoon</td>\n",
       "    </tr>\n",
       "  </tbody>\n",
       "</table>\n",
       "</div>"
      ],
      "text/plain": [
       "       player_name      import_name\n",
       "0          magarky        Novagnark\n",
       "1     NwE Kataklio       NwE Faekia\n",
       "2             Gech            Gutch\n",
       "3           shooku           sjouko\n",
       "4           Pyzing            Pyzei\n",
       "5           DiFame           DimAle\n",
       "6         Uthenera          Otenrab\n",
       "7       MyouTwitch  Hypno On Twitch\n",
       "8        Momor Vig       Momo Hirai\n",
       "9            Yaroy         KK Yaroy\n",
       "10       RPT Yaroy         KK Yaroy\n",
       "11  Delusional 061  Delusional 061 \n",
       "12     KRC Jedusor        ACE Jedou\n",
       "13         ACE Joe        ACE Jedou\n",
       "14  ACE Arestidios        ACE Jedou\n",
       "15        Xylander             Xlad\n",
       "16  HES Chromantra   KHG Chromantra\n",
       "17           Nokah         Nellokay\n",
       "18         ACE Joe     ACE Maumotte\n",
       "19        Boordoon         boordoon"
      ]
     },
     "execution_count": 7,
     "metadata": {},
     "output_type": "execute_result"
    }
   ],
   "source": [
    "list_new_player = df_player_import['import_name'].to_list()\n",
    "list_all_name = df_alternative_name['player_name'].to_list()\n",
    "\n",
    "similar_name = []\n",
    "for i in list_new_player :\n",
    "    for j in list_all_name:\n",
    "        if i == j:\n",
    "            pass\n",
    "        elif  Levenshtein.jaro(i,j) > 0.75:\n",
    "            similar_name.append([j,i])\n",
    "            \n",
    "df_similar_name = (pd.DataFrame(similar_name,columns=['player_name','import_name']))\n",
    "df_similar_name"
   ]
  },
  {
   "cell_type": "markdown",
   "metadata": {},
   "source": [
    "Do some magic here"
   ]
  },
  {
   "cell_type": "code",
   "execution_count": 8,
   "metadata": {},
   "outputs": [
    {
     "data": {
      "text/html": [
       "<div>\n",
       "<style scoped>\n",
       "    .dataframe tbody tr th:only-of-type {\n",
       "        vertical-align: middle;\n",
       "    }\n",
       "\n",
       "    .dataframe tbody tr th {\n",
       "        vertical-align: top;\n",
       "    }\n",
       "\n",
       "    .dataframe thead th {\n",
       "        text-align: right;\n",
       "    }\n",
       "</style>\n",
       "<table border=\"1\" class=\"dataframe\">\n",
       "  <thead>\n",
       "    <tr style=\"text-align: right;\">\n",
       "      <th></th>\n",
       "      <th>player_name</th>\n",
       "      <th>import_name</th>\n",
       "    </tr>\n",
       "  </thead>\n",
       "  <tbody>\n",
       "    <tr>\n",
       "      <th>9</th>\n",
       "      <td>Yaroy</td>\n",
       "      <td>KK Yaroy</td>\n",
       "    </tr>\n",
       "    <tr>\n",
       "      <th>11</th>\n",
       "      <td>Delusional 061</td>\n",
       "      <td>Delusional 061</td>\n",
       "    </tr>\n",
       "    <tr>\n",
       "      <th>16</th>\n",
       "      <td>HES Chromantra</td>\n",
       "      <td>KHG Chromantra</td>\n",
       "    </tr>\n",
       "    <tr>\n",
       "      <th>19</th>\n",
       "      <td>Boordoon</td>\n",
       "      <td>boordoon</td>\n",
       "    </tr>\n",
       "  </tbody>\n",
       "</table>\n",
       "</div>"
      ],
      "text/plain": [
       "       player_name      import_name\n",
       "9            Yaroy         KK Yaroy\n",
       "11  Delusional 061  Delusional 061 \n",
       "16  HES Chromantra   KHG Chromantra\n",
       "19        Boordoon         boordoon"
      ]
     },
     "execution_count": 8,
     "metadata": {},
     "output_type": "execute_result"
    }
   ],
   "source": [
    "df_similar_name = df_similar_name.iloc[[9,11,16,19]]\n",
    "df_similar_name"
   ]
  },
  {
   "cell_type": "markdown",
   "metadata": {},
   "source": [
    "### Alternative_name table"
   ]
  },
  {
   "cell_type": "code",
   "execution_count": 9,
   "metadata": {},
   "outputs": [
    {
     "name": "stdout",
     "output_type": "stream",
     "text": [
      "The alternative_name table was imported successfully.\n"
     ]
    }
   ],
   "source": [
    "df_similar_name = (pd.merge(df_similar_name,df_alternative_name,how='left',left_on='player_name',right_on='player_name')\n",
    "                   .drop(columns=['player_name'])\n",
    "                   .rename(columns={'import_name': 'player_name'}))\n",
    "sql_int.push_to_database(df_similar_name,table,sql_int.get_engine_alchemy(),schema)"
   ]
  },
  {
   "cell_type": "markdown",
   "metadata": {},
   "source": [
    "### Player table"
   ]
  },
  {
   "cell_type": "code",
   "execution_count": 10,
   "metadata": {},
   "outputs": [
    {
     "name": "stdout",
     "output_type": "stream",
     "text": [
      "The player table was imported successfully.\n"
     ]
    }
   ],
   "source": [
    "df_new_liquidpedia = (check_new(df_player_import,df_similar_name.rename(columns={'player_name':'import_name'}),'import_name')\n",
    "                      .rename(columns={'import_name':'liquipedia_name','country':'country_id','country_flag':'country_id'})\n",
    "                      )\n",
    "table = 'player'\n",
    "sql_int.push_to_database(df_new_liquidpedia,table,sql_int.get_engine_alchemy(),schema)"
   ]
  },
  {
   "cell_type": "code",
   "execution_count": 11,
   "metadata": {},
   "outputs": [
    {
     "data": {
      "text/html": [
       "<div>\n",
       "<style scoped>\n",
       "    .dataframe tbody tr th:only-of-type {\n",
       "        vertical-align: middle;\n",
       "    }\n",
       "\n",
       "    .dataframe tbody tr th {\n",
       "        vertical-align: top;\n",
       "    }\n",
       "\n",
       "    .dataframe thead th {\n",
       "        text-align: right;\n",
       "    }\n",
       "</style>\n",
       "<table border=\"1\" class=\"dataframe\">\n",
       "  <thead>\n",
       "    <tr style=\"text-align: right;\">\n",
       "      <th></th>\n",
       "      <th>player_name</th>\n",
       "      <th>player_id</th>\n",
       "    </tr>\n",
       "  </thead>\n",
       "  <tbody>\n",
       "    <tr>\n",
       "      <th>0</th>\n",
       "      <td>destroymanofhell</td>\n",
       "      <td>1111</td>\n",
       "    </tr>\n",
       "    <tr>\n",
       "      <th>1</th>\n",
       "      <td>razzzzzzzzia</td>\n",
       "      <td>1112</td>\n",
       "    </tr>\n",
       "    <tr>\n",
       "      <th>2</th>\n",
       "      <td>Jajiro</td>\n",
       "      <td>1113</td>\n",
       "    </tr>\n",
       "    <tr>\n",
       "      <th>3</th>\n",
       "      <td>VODKA S UTEHA</td>\n",
       "      <td>1114</td>\n",
       "    </tr>\n",
       "    <tr>\n",
       "      <th>4</th>\n",
       "      <td>dxg señor d</td>\n",
       "      <td>1115</td>\n",
       "    </tr>\n",
       "  </tbody>\n",
       "</table>\n",
       "</div>"
      ],
      "text/plain": [
       "        player_name  player_id\n",
       "0  destroymanofhell       1111\n",
       "1      razzzzzzzzia       1112\n",
       "2            Jajiro       1113\n",
       "3     VODKA S UTEHA       1114\n",
       "4       dxg señor d       1115"
      ]
     },
     "execution_count": 11,
     "metadata": {},
     "output_type": "execute_result"
    }
   ],
   "source": [
    "sql_query = f'''\n",
    "            select player_id,liquipedia_name from {schema}.{table};\n",
    "            '''\n",
    "\n",
    "df_liquipedia_name = pd.DataFrame(sql_int.get_data_alchemy(sql_query),\n",
    "                                  columns=['player_id','player_name'])\n",
    "\n",
    "df_new_liquidpedia = (df_new_liquidpedia.rename(columns={'liquipedia_name': 'player_name'})\n",
    "                      .drop(columns=['country_id'], errors='ignore'))\n",
    "df_new_liquidpedia = pd.merge(df_new_liquidpedia,df_liquipedia_name,how='left')\n",
    "df_new_liquidpedia.head(5)"
   ]
  },
  {
   "cell_type": "code",
   "execution_count": 12,
   "metadata": {},
   "outputs": [
    {
     "name": "stdout",
     "output_type": "stream",
     "text": [
      "The alternative_name table was imported successfully.\n"
     ]
    }
   ],
   "source": [
    "\n",
    "table = 'alternative_name'\n",
    "sql_int.push_to_database(df_new_liquidpedia,table,sql_int.get_engine_alchemy(),schema)"
   ]
  }
 ],
 "metadata": {
  "kernelspec": {
   "display_name": "data_base_Sep23",
   "language": "python",
   "name": "python3"
  },
  "language_info": {
   "codemirror_mode": {
    "name": "ipython",
    "version": 3
   },
   "file_extension": ".py",
   "mimetype": "text/x-python",
   "name": "python",
   "nbconvert_exporter": "python",
   "pygments_lexer": "ipython3",
   "version": "3.11.5"
  }
 },
 "nbformat": 4,
 "nbformat_minor": 2
}
