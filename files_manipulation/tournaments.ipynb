{
 "cells": [
  {
   "cell_type": "code",
   "execution_count": 1,
   "metadata": {},
   "outputs": [],
   "source": [
    "import pandas as pd\n",
    "from datetime import datetime\n",
    "import sql_functions as sql_int"
   ]
  },
  {
   "cell_type": "code",
   "execution_count": 2,
   "metadata": {},
   "outputs": [],
   "source": [
    "def new_tournament(tournament_add,name,short_name,start,fin):\n",
    "    start = datetime.strptime(start, '%Y-%m-%d')\n",
    "    fin = datetime.strptime(fin, '%Y-%m-%d')\n",
    "    tournament_add.append([name,short_name,start,fin])\n",
    "def add_tournament(tournament_lst,tournament_df):\n",
    "    df_add = pd.DataFrame(tournament_lst,columns=['name','short_name','start','fin'])\n",
    "    df_add.drop_duplicates(inplace=True)\n",
    "    tournament_df = pd.concat([tournament_df,df_add],ignore_index=True)\n",
    "    return tournament_df"
   ]
  },
  {
   "cell_type": "markdown",
   "metadata": {},
   "source": [
    "## New tournament\n",
    "#### Read new tournaments from CSV-file"
   ]
  },
  {
   "cell_type": "code",
   "execution_count": 2,
   "metadata": {},
   "outputs": [],
   "source": [
    "tournament_add = []\n",
    "tournament = pd.read_csv('/program/tft_overview/tft_Tables/data_sheets/tournaments.csv',\n",
    "                            dtype={'name' : 'str', 'short_name' : 'str' },\n",
    "                            parse_dates=[\"start\", \"fin\"])\n",
    "df_tournament = tournament.copy()\n",
    "#df_tournament[['name','short_name']] = df_tournament[['name','short_name']].apply(lambda x : x.str.lower())"
   ]
  },
  {
   "cell_type": "markdown",
   "metadata": {},
   "source": [
    "#### Example for new tournament"
   ]
  },
  {
   "cell_type": "code",
   "execution_count": 4,
   "metadata": {},
   "outputs": [],
   "source": [
    "new_tournament(tournament_add,\n",
    "               'Rising Legends Runeterra Reforged - Open Qualifier 2 Day 2',\n",
    "               'RL RR OQ2 D2',\n",
    "               '2023-08-06',\n",
    "               '2023-08-06'\n",
    "               )"
   ]
  },
  {
   "cell_type": "code",
   "execution_count": 5,
   "metadata": {},
   "outputs": [],
   "source": [
    "df_tournament = add_tournament(tournament_add,df_tournament)\n",
    "#df_tournament[['name','short_name']] = df_tournament[['name','short_name']].apply(lambda x : x.str.lower())"
   ]
  },
  {
   "cell_type": "markdown",
   "metadata": {},
   "source": [
    "## Get existing Tournaments"
   ]
  },
  {
   "cell_type": "code",
   "execution_count": 3,
   "metadata": {},
   "outputs": [],
   "source": [
    "schema = 'tft_table'\n",
    "table = 'tournament'\n",
    "sql_query = f'''\n",
    "            select * from {table};\n",
    "            '''\n",
    "\n",
    "existing_tournament = pd.DataFrame(sql_int.get_data_alchemy(sql_query),\n",
    "                                  columns=['tournament_id','name','short_name','start','fin'])\n",
    "\n",
    "df_existing_tournament = existing_tournament.copy()\n",
    "df_existing_tournament[['start','fin']] = df_existing_tournament[['start','fin']].apply(pd.to_datetime)\n",
    "df_existing_tournament['existing'] = 'Yes'\n",
    "#df_existing_tournament[['name','short_name']] = df_existing_tournament[['name','short_name']].apply(lambda x : x.str.lower())\n",
    "df_tournament = pd.concat([df_existing_tournament,df_tournament],ignore_index=True)"
   ]
  },
  {
   "cell_type": "code",
   "execution_count": 4,
   "metadata": {},
   "outputs": [
    {
     "data": {
      "text/html": [
       "<div>\n",
       "<style scoped>\n",
       "    .dataframe tbody tr th:only-of-type {\n",
       "        vertical-align: middle;\n",
       "    }\n",
       "\n",
       "    .dataframe tbody tr th {\n",
       "        vertical-align: top;\n",
       "    }\n",
       "\n",
       "    .dataframe thead th {\n",
       "        text-align: right;\n",
       "    }\n",
       "</style>\n",
       "<table border=\"1\" class=\"dataframe\">\n",
       "  <thead>\n",
       "    <tr style=\"text-align: right;\">\n",
       "      <th></th>\n",
       "      <th>tournament_id</th>\n",
       "      <th>name</th>\n",
       "      <th>short_name</th>\n",
       "      <th>start</th>\n",
       "      <th>fin</th>\n",
       "      <th>existing</th>\n",
       "    </tr>\n",
       "  </thead>\n",
       "  <tbody>\n",
       "    <tr>\n",
       "      <th>0</th>\n",
       "      <td>1.0</td>\n",
       "      <td>Rising Legends Runeterra Reforged - Open Quali...</td>\n",
       "      <td>RL RR OQ2 D1 GA</td>\n",
       "      <td>2023-08-05</td>\n",
       "      <td>2023-08-05</td>\n",
       "      <td>Yes</td>\n",
       "    </tr>\n",
       "    <tr>\n",
       "      <th>8</th>\n",
       "      <td>NaN</td>\n",
       "      <td>Rising Legends Runeterra Reforged - Open Quali...</td>\n",
       "      <td>RL RR OQ2 D1 GA</td>\n",
       "      <td>2023-08-05</td>\n",
       "      <td>2023-08-05</td>\n",
       "      <td>NaN</td>\n",
       "    </tr>\n",
       "  </tbody>\n",
       "</table>\n",
       "</div>"
      ],
      "text/plain": [
       "   tournament_id                                               name  \\\n",
       "0            1.0  Rising Legends Runeterra Reforged - Open Quali...   \n",
       "8            NaN  Rising Legends Runeterra Reforged - Open Quali...   \n",
       "\n",
       "        short_name      start        fin existing  \n",
       "0  RL RR OQ2 D1 GA 2023-08-05 2023-08-05      Yes  \n",
       "8  RL RR OQ2 D1 GA 2023-08-05 2023-08-05      NaN  "
      ]
     },
     "execution_count": 4,
     "metadata": {},
     "output_type": "execute_result"
    }
   ],
   "source": [
    "df_tournament[df_tournament.duplicated(keep = False, subset=['name']) == True].sort_values(by=['name','short_name'])"
   ]
  },
  {
   "cell_type": "code",
   "execution_count": 5,
   "metadata": {},
   "outputs": [],
   "source": [
    "df_tournament = (df_tournament\n",
    "                  .drop_duplicates(subset=['name'],keep=False)\n",
    "                  .query('existing != \"Yes\"')\n",
    "                  .drop(['tournament_id','existing'],axis=1)\n",
    "                  )"
   ]
  },
  {
   "cell_type": "code",
   "execution_count": 6,
   "metadata": {},
   "outputs": [
    {
     "data": {
      "text/html": [
       "<div>\n",
       "<style scoped>\n",
       "    .dataframe tbody tr th:only-of-type {\n",
       "        vertical-align: middle;\n",
       "    }\n",
       "\n",
       "    .dataframe tbody tr th {\n",
       "        vertical-align: top;\n",
       "    }\n",
       "\n",
       "    .dataframe thead th {\n",
       "        text-align: right;\n",
       "    }\n",
       "</style>\n",
       "<table border=\"1\" class=\"dataframe\">\n",
       "  <thead>\n",
       "    <tr style=\"text-align: right;\">\n",
       "      <th></th>\n",
       "      <th>name</th>\n",
       "      <th>short_name</th>\n",
       "      <th>start</th>\n",
       "      <th>fin</th>\n",
       "    </tr>\n",
       "  </thead>\n",
       "  <tbody>\n",
       "    <tr>\n",
       "      <th>1</th>\n",
       "      <td>Rising Legends Runeterra Reforged - Open Quali...</td>\n",
       "      <td>RL RR OQ1 D1 GA</td>\n",
       "      <td>2023-07-08</td>\n",
       "      <td>2023-07-08</td>\n",
       "    </tr>\n",
       "    <tr>\n",
       "      <th>2</th>\n",
       "      <td>Rising Legends Runeterra Reforged - Open Quali...</td>\n",
       "      <td>RL RR OQ1 D1 GB</td>\n",
       "      <td>2023-07-08</td>\n",
       "      <td>2023-07-08</td>\n",
       "    </tr>\n",
       "    <tr>\n",
       "      <th>3</th>\n",
       "      <td>Rising Legends Runeterra Reforged - Open Quali...</td>\n",
       "      <td>RL RR OQ1 D2</td>\n",
       "      <td>2023-07-09</td>\n",
       "      <td>2023-07-09</td>\n",
       "    </tr>\n",
       "    <tr>\n",
       "      <th>4</th>\n",
       "      <td>Rising Legends Runeterra Reforged - Open Quali...</td>\n",
       "      <td>RL RR OQ1 D3</td>\n",
       "      <td>2023-07-10</td>\n",
       "      <td>2023-07-10</td>\n",
       "    </tr>\n",
       "    <tr>\n",
       "      <th>5</th>\n",
       "      <td>Rising Legends Runeterra Reforged - Golden Spa...</td>\n",
       "      <td>RL RR GS1 D1</td>\n",
       "      <td>2023-07-14</td>\n",
       "      <td>2023-07-14</td>\n",
       "    </tr>\n",
       "    <tr>\n",
       "      <th>6</th>\n",
       "      <td>Rising Legends Runeterra Reforged - Golden Spa...</td>\n",
       "      <td>RL RR GS1 D2</td>\n",
       "      <td>2023-07-15</td>\n",
       "      <td>2023-07-15</td>\n",
       "    </tr>\n",
       "    <tr>\n",
       "      <th>7</th>\n",
       "      <td>Rising Legends Runeterra Reforged - Golden Spa...</td>\n",
       "      <td>RL RR GS1 D3</td>\n",
       "      <td>2023-07-16</td>\n",
       "      <td>2023-07-16</td>\n",
       "    </tr>\n",
       "    <tr>\n",
       "      <th>9</th>\n",
       "      <td>Rising Legends Runeterra Reforged - Open Quali...</td>\n",
       "      <td>RL RR OQ2 D1 GB</td>\n",
       "      <td>2023-08-05</td>\n",
       "      <td>2023-08-05</td>\n",
       "    </tr>\n",
       "    <tr>\n",
       "      <th>10</th>\n",
       "      <td>Rising Legends Runeterra Reforged - Open Quali...</td>\n",
       "      <td>RL RR OQ2 D2</td>\n",
       "      <td>2023-08-06</td>\n",
       "      <td>2023-08-06</td>\n",
       "    </tr>\n",
       "    <tr>\n",
       "      <th>11</th>\n",
       "      <td>Rising Legends Runeterra Reforged - Open Quali...</td>\n",
       "      <td>RL RR OQ2 D3</td>\n",
       "      <td>2023-08-07</td>\n",
       "      <td>2023-08-07</td>\n",
       "    </tr>\n",
       "    <tr>\n",
       "      <th>12</th>\n",
       "      <td>Rising Legends Runeterra Reforged - Golden Spa...</td>\n",
       "      <td>RL RR GS2 D1</td>\n",
       "      <td>2023-08-11</td>\n",
       "      <td>2023-08-11</td>\n",
       "    </tr>\n",
       "    <tr>\n",
       "      <th>13</th>\n",
       "      <td>Rising Legends Runeterra Reforged - Golden Spa...</td>\n",
       "      <td>RL RR GS2 D2</td>\n",
       "      <td>2023-08-12</td>\n",
       "      <td>2023-08-12</td>\n",
       "    </tr>\n",
       "    <tr>\n",
       "      <th>14</th>\n",
       "      <td>Rising Legends Runeterra Reforged - Golden Spa...</td>\n",
       "      <td>RL RR GS2 D3</td>\n",
       "      <td>2023-08-13</td>\n",
       "      <td>2023-08-13</td>\n",
       "    </tr>\n",
       "    <tr>\n",
       "      <th>15</th>\n",
       "      <td>Rising Legends Runeterra Reforged - Open Quali...</td>\n",
       "      <td>RL RR OQ3 D1 GA</td>\n",
       "      <td>2023-09-30</td>\n",
       "      <td>2023-09-30</td>\n",
       "    </tr>\n",
       "    <tr>\n",
       "      <th>16</th>\n",
       "      <td>Rising Legends Runeterra Reforged - Open Quali...</td>\n",
       "      <td>RL RR OQ3 D1 GB</td>\n",
       "      <td>2023-09-30</td>\n",
       "      <td>2023-09-30</td>\n",
       "    </tr>\n",
       "    <tr>\n",
       "      <th>17</th>\n",
       "      <td>Rising Legends Runeterra Reforged - Open Quali...</td>\n",
       "      <td>RL RR OQ3 D2</td>\n",
       "      <td>2023-10-01</td>\n",
       "      <td>2023-10-01</td>\n",
       "    </tr>\n",
       "    <tr>\n",
       "      <th>18</th>\n",
       "      <td>Rising Legends Runeterra Reforged - Open Quali...</td>\n",
       "      <td>RL RR OQ3 D3</td>\n",
       "      <td>2023-10-02</td>\n",
       "      <td>2023-10-02</td>\n",
       "    </tr>\n",
       "    <tr>\n",
       "      <th>19</th>\n",
       "      <td>Rising Legends Runeterra Reforged - Golden Spa...</td>\n",
       "      <td>RL RR GS3 D1</td>\n",
       "      <td>2023-10-06</td>\n",
       "      <td>2023-10-06</td>\n",
       "    </tr>\n",
       "    <tr>\n",
       "      <th>20</th>\n",
       "      <td>Rising Legends Runeterra Reforged - Golden Spa...</td>\n",
       "      <td>RL RR GS3 D2</td>\n",
       "      <td>2023-10-07</td>\n",
       "      <td>2023-10-07</td>\n",
       "    </tr>\n",
       "    <tr>\n",
       "      <th>21</th>\n",
       "      <td>Rising Legends Runeterra Reforged - Golden Spa...</td>\n",
       "      <td>RL RR GS3 D3</td>\n",
       "      <td>2023-10-08</td>\n",
       "      <td>2023-10-08</td>\n",
       "    </tr>\n",
       "  </tbody>\n",
       "</table>\n",
       "</div>"
      ],
      "text/plain": [
       "                                                 name       short_name  \\\n",
       "1   Rising Legends Runeterra Reforged - Open Quali...  RL RR OQ1 D1 GA   \n",
       "2   Rising Legends Runeterra Reforged - Open Quali...  RL RR OQ1 D1 GB   \n",
       "3   Rising Legends Runeterra Reforged - Open Quali...    RL RR OQ1 D2    \n",
       "4   Rising Legends Runeterra Reforged - Open Quali...     RL RR OQ1 D3   \n",
       "5   Rising Legends Runeterra Reforged - Golden Spa...     RL RR GS1 D1   \n",
       "6   Rising Legends Runeterra Reforged - Golden Spa...     RL RR GS1 D2   \n",
       "7   Rising Legends Runeterra Reforged - Golden Spa...     RL RR GS1 D3   \n",
       "9   Rising Legends Runeterra Reforged - Open Quali...  RL RR OQ2 D1 GB   \n",
       "10  Rising Legends Runeterra Reforged - Open Quali...    RL RR OQ2 D2    \n",
       "11  Rising Legends Runeterra Reforged - Open Quali...     RL RR OQ2 D3   \n",
       "12  Rising Legends Runeterra Reforged - Golden Spa...     RL RR GS2 D1   \n",
       "13  Rising Legends Runeterra Reforged - Golden Spa...     RL RR GS2 D2   \n",
       "14  Rising Legends Runeterra Reforged - Golden Spa...     RL RR GS2 D3   \n",
       "15  Rising Legends Runeterra Reforged - Open Quali...  RL RR OQ3 D1 GA   \n",
       "16  Rising Legends Runeterra Reforged - Open Quali...  RL RR OQ3 D1 GB   \n",
       "17  Rising Legends Runeterra Reforged - Open Quali...    RL RR OQ3 D2    \n",
       "18  Rising Legends Runeterra Reforged - Open Quali...     RL RR OQ3 D3   \n",
       "19  Rising Legends Runeterra Reforged - Golden Spa...     RL RR GS3 D1   \n",
       "20  Rising Legends Runeterra Reforged - Golden Spa...     RL RR GS3 D2   \n",
       "21  Rising Legends Runeterra Reforged - Golden Spa...     RL RR GS3 D3   \n",
       "\n",
       "        start        fin  \n",
       "1  2023-07-08 2023-07-08  \n",
       "2  2023-07-08 2023-07-08  \n",
       "3  2023-07-09 2023-07-09  \n",
       "4  2023-07-10 2023-07-10  \n",
       "5  2023-07-14 2023-07-14  \n",
       "6  2023-07-15 2023-07-15  \n",
       "7  2023-07-16 2023-07-16  \n",
       "9  2023-08-05 2023-08-05  \n",
       "10 2023-08-06 2023-08-06  \n",
       "11 2023-08-07 2023-08-07  \n",
       "12 2023-08-11 2023-08-11  \n",
       "13 2023-08-12 2023-08-12  \n",
       "14 2023-08-13 2023-08-13  \n",
       "15 2023-09-30 2023-09-30  \n",
       "16 2023-09-30 2023-09-30  \n",
       "17 2023-10-01 2023-10-01  \n",
       "18 2023-10-02 2023-10-02  \n",
       "19 2023-10-06 2023-10-06  \n",
       "20 2023-10-07 2023-10-07  \n",
       "21 2023-10-08 2023-10-08  "
      ]
     },
     "execution_count": 6,
     "metadata": {},
     "output_type": "execute_result"
    }
   ],
   "source": [
    "df_tournament"
   ]
  },
  {
   "cell_type": "markdown",
   "metadata": {},
   "source": [
    "push new tournaments into Database"
   ]
  },
  {
   "cell_type": "code",
   "execution_count": 7,
   "metadata": {},
   "outputs": [
    {
     "name": "stdout",
     "output_type": "stream",
     "text": [
      "The tournament table was imported successfully.\n"
     ]
    },
    {
     "ename": "",
     "evalue": "",
     "output_type": "error",
     "traceback": [
      "\u001b[1;31mThe Kernel crashed while executing code in the the current cell or a previous cell. Please review the code in the cell(s) to identify a possible cause of the failure. Click <a href='https://aka.ms/vscodeJupyterKernelCrash'>here</a> for more info. View Jupyter <a href='command:jupyter.viewOutput'>log</a> for further details."
     ]
    }
   ],
   "source": [
    "sql_int.push_to_database(df_tournament,table,sql_int.get_engine_alchemy(),schema)"
   ]
  }
 ],
 "metadata": {
  "kernelspec": {
   "display_name": "data_base_Sep23",
   "language": "python",
   "name": "python3"
  },
  "language_info": {
   "codemirror_mode": {
    "name": "ipython",
    "version": 3
   },
   "file_extension": ".py",
   "mimetype": "text/x-python",
   "name": "python",
   "nbconvert_exporter": "python",
   "pygments_lexer": "ipython3",
   "version": "3.11.5"
  }
 },
 "nbformat": 4,
 "nbformat_minor": 2
}
