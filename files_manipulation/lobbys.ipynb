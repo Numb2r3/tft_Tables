{
 "cells": [
  {
   "cell_type": "code",
   "execution_count": 1,
   "metadata": {},
   "outputs": [],
   "source": [
    "import pandas as pd\n",
    "import sql_functions as sql_int"
   ]
  },
  {
   "cell_type": "code",
   "execution_count": 2,
   "metadata": {},
   "outputs": [],
   "source": [
    "tournament_result = pd.read_csv('/program/tft_overview/tft_Tables/data_sheets/test_resultsOQ1D1GA.csv')"
   ]
  },
  {
   "cell_type": "markdown",
   "metadata": {},
   "source": [
    "#### changing points into placement"
   ]
  },
  {
   "cell_type": "code",
   "execution_count": 14,
   "metadata": {},
   "outputs": [
    {
     "data": {
      "text/html": [
       "<div>\n",
       "<style scoped>\n",
       "    .dataframe tbody tr th:only-of-type {\n",
       "        vertical-align: middle;\n",
       "    }\n",
       "\n",
       "    .dataframe tbody tr th {\n",
       "        vertical-align: top;\n",
       "    }\n",
       "\n",
       "    .dataframe thead th {\n",
       "        text-align: right;\n",
       "    }\n",
       "</style>\n",
       "<table border=\"1\" class=\"dataframe\">\n",
       "  <thead>\n",
       "    <tr style=\"text-align: right;\">\n",
       "      <th></th>\n",
       "      <th>playerName</th>\n",
       "      <th>tournament</th>\n",
       "      <th>round</th>\n",
       "      <th>group</th>\n",
       "      <th>placement</th>\n",
       "    </tr>\n",
       "  </thead>\n",
       "  <tbody>\n",
       "  </tbody>\n",
       "</table>\n",
       "</div>"
      ],
      "text/plain": [
       "Empty DataFrame\n",
       "Columns: [playerName, tournament, round, group, placement]\n",
       "Index: []"
      ]
     },
     "execution_count": 14,
     "metadata": {},
     "output_type": "execute_result"
    }
   ],
   "source": [
    "df_tournament_result = tournament_result.copy()\n",
    "if 'placement' in df_tournament_result.columns: \n",
    "    pass \n",
    "else: \n",
    "    df_tournament_result['placement'] = df_tournament_result['points'].apply(lambda x: 9-x)\n",
    "    df_tournament_result = df_tournament_result.drop(columns='points')\n",
    "           \n",
    "df_tournament_result[df_tournament_result.duplicated(keep= False, subset=['tournament','group','round','placement']) == True].sort_values(by=['tournament','round','group'])"
   ]
  },
  {
   "cell_type": "markdown",
   "metadata": {},
   "source": [
    "#### create Result tables"
   ]
  },
  {
   "cell_type": "code",
   "execution_count": 31,
   "metadata": {},
   "outputs": [],
   "source": [
    "df_tournament_result = df_tournament_result.drop_duplicates()\n",
    "\n",
    "df_lobby_result = (pd.pivot_table(df_tournament_result,values='playerName',columns='placement',index=['tournament','round','group'],aggfunc='first')\n",
    "                   .reset_index()\n",
    "                   .rename(columns={1:'winner',2:'runnerup',3:'third',4:'fourth',5:'fifth',6:'sixth',7:'seventh',8:'eighth'}))"
   ]
  },
  {
   "cell_type": "markdown",
   "metadata": {},
   "source": [
    "#### Take tournament ID's"
   ]
  },
  {
   "cell_type": "code",
   "execution_count": 22,
   "metadata": {},
   "outputs": [],
   "source": [
    "schema = 'tft_tables'\n",
    "sql_query = f'''select name, tournament_id\n",
    "                FROM tournaments;\n",
    "                '''\n",
    "\n",
    "df_tounament_id = pd.DataFrame(sql_int.get_data_mysql(sql_query),\n",
    "                                    columns=['tournament','tournament_id'])\n",
    "df_tounament_push = (pd.merge(df_lobby_result,df_tounament_id, how='left',left_on='tournament',right_on='tournament')\n",
    "                     .drop(columns='tournament')\n",
    "                     )"
   ]
  },
  {
   "cell_type": "markdown",
   "metadata": {},
   "source": [
    "#### Checking tournament result already exists"
   ]
  },
  {
   "cell_type": "code",
   "execution_count": 25,
   "metadata": {},
   "outputs": [],
   "source": [
    "sql_query = f'''SELECT tournament_id,round,party\n",
    "                FROM lobbys;\n",
    "                '''\n",
    "df_existing_lobby = pd.DataFrame(sql_int.get_data_mysql(sql_query),\n",
    "                                    columns=['tournament_id','round','group'])\n",
    "df_no_dups = pd.concat([df_tounament_push,df_existing_lobby],ignore_index=True)\n",
    "df_no_dups = df_no_dups.drop_duplicates(subset=['tournament_id','group','round'],keep=False).rename(columns={'group': 'party'})"
   ]
  },
  {
   "cell_type": "code",
   "execution_count": 65,
   "metadata": {},
   "outputs": [
    {
     "name": "stdout",
     "output_type": "stream",
     "text": [
      "The lobbys table was imported successfully.\n"
     ]
    }
   ],
   "source": [
    "sql_int.push_to_database(df_no_dups,'lobbys',sql_int.get_engine_alchemy(),'tft_tables')"
   ]
  }
 ],
 "metadata": {
  "kernelspec": {
   "display_name": "data_base_Sep23",
   "language": "python",
   "name": "python3"
  },
  "language_info": {
   "codemirror_mode": {
    "name": "ipython",
    "version": 3
   },
   "file_extension": ".py",
   "mimetype": "text/x-python",
   "name": "python",
   "nbconvert_exporter": "python",
   "pygments_lexer": "ipython3",
   "version": "3.11.5"
  }
 },
 "nbformat": 4,
 "nbformat_minor": 2
}
