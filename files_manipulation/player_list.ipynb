{
 "cells": [
  {
   "cell_type": "code",
   "execution_count": 1,
   "metadata": {},
   "outputs": [],
   "source": [
    "import pandas as pd\n",
    "import sql_functions as sql_int\n",
    "import Levenshtein"
   ]
  },
  {
   "cell_type": "markdown",
   "metadata": {},
   "source": [
    "## Get Names from Tournament\n"
   ]
  },
  {
   "cell_type": "markdown",
   "metadata": {},
   "source": [
    "take the playerlist and reduce duplikates in it"
   ]
  },
  {
   "cell_type": "code",
   "execution_count": 2,
   "metadata": {},
   "outputs": [],
   "source": [
    "player_import = pd.read_csv('/program/tft_overview/tft_Tables/data_sheets/name_list_GSC2.csv',\n",
    "                         dtype={'liquipedia_name' : str,'country_flag' : str} )\n",
    "df_player_import = player_import.copy()"
   ]
  },
  {
   "cell_type": "code",
   "execution_count": 3,
   "metadata": {},
   "outputs": [
    {
     "data": {
      "text/html": [
       "<div>\n",
       "<style scoped>\n",
       "    .dataframe tbody tr th:only-of-type {\n",
       "        vertical-align: middle;\n",
       "    }\n",
       "\n",
       "    .dataframe tbody tr th {\n",
       "        vertical-align: top;\n",
       "    }\n",
       "\n",
       "    .dataframe thead th {\n",
       "        text-align: right;\n",
       "    }\n",
       "</style>\n",
       "<table border=\"1\" class=\"dataframe\">\n",
       "  <thead>\n",
       "    <tr style=\"text-align: right;\">\n",
       "      <th></th>\n",
       "      <th>import_name</th>\n",
       "    </tr>\n",
       "  </thead>\n",
       "  <tbody>\n",
       "    <tr>\n",
       "      <th>0</th>\n",
       "      <td>5454</td>\n",
       "    </tr>\n",
       "    <tr>\n",
       "      <th>1</th>\n",
       "      <td>valentin3411</td>\n",
       "    </tr>\n",
       "    <tr>\n",
       "      <th>2</th>\n",
       "      <td>Memo</td>\n",
       "    </tr>\n",
       "    <tr>\n",
       "      <th>3</th>\n",
       "      <td>Kingdanzz</td>\n",
       "    </tr>\n",
       "    <tr>\n",
       "      <th>4</th>\n",
       "      <td>Aexoq</td>\n",
       "    </tr>\n",
       "    <tr>\n",
       "      <th>...</th>\n",
       "      <td>...</td>\n",
       "    </tr>\n",
       "    <tr>\n",
       "      <th>123</th>\n",
       "      <td>Epik</td>\n",
       "    </tr>\n",
       "    <tr>\n",
       "      <th>124</th>\n",
       "      <td>keenko</td>\n",
       "    </tr>\n",
       "    <tr>\n",
       "      <th>125</th>\n",
       "      <td>Littletoof</td>\n",
       "    </tr>\n",
       "    <tr>\n",
       "      <th>126</th>\n",
       "      <td>DeliryummEUW</td>\n",
       "    </tr>\n",
       "    <tr>\n",
       "      <th>127</th>\n",
       "      <td>PortugueseBabe</td>\n",
       "    </tr>\n",
       "  </tbody>\n",
       "</table>\n",
       "<p>128 rows × 1 columns</p>\n",
       "</div>"
      ],
      "text/plain": [
       "        import_name\n",
       "0              5454\n",
       "1      valentin3411\n",
       "2              Memo\n",
       "3         Kingdanzz\n",
       "4             Aexoq\n",
       "..              ...\n",
       "123            Epik\n",
       "124          keenko\n",
       "125      Littletoof\n",
       "126    DeliryummEUW\n",
       "127  PortugueseBabe\n",
       "\n",
       "[128 rows x 1 columns]"
      ]
     },
     "execution_count": 3,
     "metadata": {},
     "output_type": "execute_result"
    }
   ],
   "source": [
    "df_player_import"
   ]
  },
  {
   "cell_type": "code",
   "execution_count": 4,
   "metadata": {},
   "outputs": [],
   "source": [
    "df_player_import = df_player_import.rename(columns={'liquipedia_name' : 'import_name'})\n",
    "#df_player_import['import_name_lower'] = df_player_import['import_name'].apply(lambda x: x.lower() if isinstance(x, str) else x)\n",
    "df_player_import = df_player_import.drop_duplicates()"
   ]
  },
  {
   "cell_type": "markdown",
   "metadata": {},
   "source": [
    "Same liquipedia name but different country correct the entrys"
   ]
  },
  {
   "cell_type": "code",
   "execution_count": 5,
   "metadata": {},
   "outputs": [
    {
     "data": {
      "text/html": [
       "<div>\n",
       "<style scoped>\n",
       "    .dataframe tbody tr th:only-of-type {\n",
       "        vertical-align: middle;\n",
       "    }\n",
       "\n",
       "    .dataframe tbody tr th {\n",
       "        vertical-align: top;\n",
       "    }\n",
       "\n",
       "    .dataframe thead th {\n",
       "        text-align: right;\n",
       "    }\n",
       "</style>\n",
       "<table border=\"1\" class=\"dataframe\">\n",
       "  <thead>\n",
       "    <tr style=\"text-align: right;\">\n",
       "      <th></th>\n",
       "      <th>import_name</th>\n",
       "    </tr>\n",
       "  </thead>\n",
       "  <tbody>\n",
       "  </tbody>\n",
       "</table>\n",
       "</div>"
      ],
      "text/plain": [
       "Empty DataFrame\n",
       "Columns: [import_name]\n",
       "Index: []"
      ]
     },
     "execution_count": 5,
     "metadata": {},
     "output_type": "execute_result"
    }
   ],
   "source": [
    "df_player_import[df_player_import.duplicated(keep = False, subset=['import_name']) == True].sort_values(by='import_name')"
   ]
  },
  {
   "cell_type": "markdown",
   "metadata": {},
   "source": [
    "#### delete double entrys"
   ]
  },
  {
   "cell_type": "code",
   "execution_count": 6,
   "metadata": {},
   "outputs": [],
   "source": [
    "df_player_import.drop([148],inplace=True)\n"
   ]
  },
  {
   "cell_type": "markdown",
   "metadata": {},
   "source": [
    "## Compare Names with *alternative_names*"
   ]
  },
  {
   "cell_type": "code",
   "execution_count": 6,
   "metadata": {},
   "outputs": [],
   "source": [
    "schema = 'tft_table'\n",
    "sql_query = f'SELECT * FROM {schema}.lobby;'\n",
    "\n",
    "alternative_name = pd.DataFrame(sql_int.get_data_alchemy(sql_query),\n",
    "                                    columns=['player_name','liquipedia_name','names_id','player_id'])\n",
    "df_alternative_name = alternative_name.copy()\n",
    "\n",
    "#df_alternative_name[['player_name','liquipedia_name']] = df_alternative_name[['player_name','liquipedia_name']].apply(lambda x: x.str.lower())\n"
   ]
  },
  {
   "cell_type": "markdown",
   "metadata": {},
   "source": [
    "replace the imported names with liquipedia_names from the alternative list.   \n",
    "If there was someone with his alternative name in, they have now liquipedia_name"
   ]
  },
  {
   "cell_type": "code",
   "execution_count": 7,
   "metadata": {},
   "outputs": [
    {
     "data": {
      "text/html": [
       "<div>\n",
       "<style scoped>\n",
       "    .dataframe tbody tr th:only-of-type {\n",
       "        vertical-align: middle;\n",
       "    }\n",
       "\n",
       "    .dataframe tbody tr th {\n",
       "        vertical-align: top;\n",
       "    }\n",
       "\n",
       "    .dataframe thead th {\n",
       "        text-align: right;\n",
       "    }\n",
       "</style>\n",
       "<table border=\"1\" class=\"dataframe\">\n",
       "  <thead>\n",
       "    <tr style=\"text-align: right;\">\n",
       "      <th></th>\n",
       "      <th>import_name</th>\n",
       "    </tr>\n",
       "  </thead>\n",
       "  <tbody>\n",
       "    <tr>\n",
       "      <th>0</th>\n",
       "      <td>5454</td>\n",
       "    </tr>\n",
       "    <tr>\n",
       "      <th>1</th>\n",
       "      <td>valentin3411</td>\n",
       "    </tr>\n",
       "    <tr>\n",
       "      <th>2</th>\n",
       "      <td>Memo</td>\n",
       "    </tr>\n",
       "    <tr>\n",
       "      <th>3</th>\n",
       "      <td>Kingdanzz</td>\n",
       "    </tr>\n",
       "    <tr>\n",
       "      <th>4</th>\n",
       "      <td>Aexoq</td>\n",
       "    </tr>\n",
       "    <tr>\n",
       "      <th>...</th>\n",
       "      <td>...</td>\n",
       "    </tr>\n",
       "    <tr>\n",
       "      <th>123</th>\n",
       "      <td>Epik</td>\n",
       "    </tr>\n",
       "    <tr>\n",
       "      <th>124</th>\n",
       "      <td>keenko</td>\n",
       "    </tr>\n",
       "    <tr>\n",
       "      <th>125</th>\n",
       "      <td>Littletoof</td>\n",
       "    </tr>\n",
       "    <tr>\n",
       "      <th>126</th>\n",
       "      <td>DeliryummEUW</td>\n",
       "    </tr>\n",
       "    <tr>\n",
       "      <th>127</th>\n",
       "      <td>PortugueseBabe</td>\n",
       "    </tr>\n",
       "  </tbody>\n",
       "</table>\n",
       "<p>128 rows × 1 columns</p>\n",
       "</div>"
      ],
      "text/plain": [
       "        import_name\n",
       "0              5454\n",
       "1      valentin3411\n",
       "2              Memo\n",
       "3         Kingdanzz\n",
       "4             Aexoq\n",
       "..              ...\n",
       "123            Epik\n",
       "124          keenko\n",
       "125      Littletoof\n",
       "126    DeliryummEUW\n",
       "127  PortugueseBabe\n",
       "\n",
       "[128 rows x 1 columns]"
      ]
     },
     "execution_count": 7,
     "metadata": {},
     "output_type": "execute_result"
    }
   ],
   "source": [
    "df_merge_import_alternative = (pd.merge(df_player_import['import_name'], df_alternative_name[['player_name','liquipedia_name']],\n",
    "                                         how=\"left\", left_on='import_name',right_on='player_name')\n",
    "                               )\n",
    "\n",
    "df_merge_import_alternative.loc[df_merge_import_alternative['player_name'].notna(), 'import_name'] = df_merge_import_alternative['liquipedia_name']\n",
    "df_merge_import_alternative = df_merge_import_alternative.drop(columns=['player_name','liquipedia_name']).drop_duplicates()\n",
    "df_merge_import_alternative"
   ]
  },
  {
   "cell_type": "markdown",
   "metadata": {},
   "source": [
    "2nd check cause 2nd merge"
   ]
  },
  {
   "cell_type": "code",
   "execution_count": 8,
   "metadata": {},
   "outputs": [
    {
     "data": {
      "text/html": [
       "<div>\n",
       "<style scoped>\n",
       "    .dataframe tbody tr th:only-of-type {\n",
       "        vertical-align: middle;\n",
       "    }\n",
       "\n",
       "    .dataframe tbody tr th {\n",
       "        vertical-align: top;\n",
       "    }\n",
       "\n",
       "    .dataframe thead th {\n",
       "        text-align: right;\n",
       "    }\n",
       "</style>\n",
       "<table border=\"1\" class=\"dataframe\">\n",
       "  <thead>\n",
       "    <tr style=\"text-align: right;\">\n",
       "      <th></th>\n",
       "      <th>import_name</th>\n",
       "    </tr>\n",
       "  </thead>\n",
       "  <tbody>\n",
       "  </tbody>\n",
       "</table>\n",
       "</div>"
      ],
      "text/plain": [
       "Empty DataFrame\n",
       "Columns: [import_name]\n",
       "Index: []"
      ]
     },
     "execution_count": 8,
     "metadata": {},
     "output_type": "execute_result"
    }
   ],
   "source": [
    "df_merge_import_alternative[df_merge_import_alternative.duplicated(keep= False, subset=['import_name']) == True].sort_values(by='import_name')"
   ]
  },
  {
   "cell_type": "markdown",
   "metadata": {},
   "source": [
    "## Search Names in *players*"
   ]
  },
  {
   "cell_type": "code",
   "execution_count": 9,
   "metadata": {},
   "outputs": [],
   "source": [
    "sql_query = f'''select liquipedia_name, player_id from {schema}.player;'''\n",
    "\n",
    "\n",
    "liquipedia_name = pd.DataFrame(sql_int.get_data_alchemy(sql_query),\n",
    "                                columns=['liquipedia_name','player_id'])\n",
    "\n",
    "df_liquipedia_name = liquipedia_name.copy()\n",
    "##df_liquipedia_name['liquipedia_name'] = df_liquipedia_name['liquipedia_name'].apply(lambda x: x.lower() if isinstance(x, str) else x)\n",
    "\n",
    "df_merge_import_alternative_liquipedia =pd.merge(\n",
    "                                            df_merge_import_alternative,df_liquipedia_name['liquipedia_name'], how='left',\n",
    "                                            left_on= 'import_name', right_on='liquipedia_name')"
   ]
  },
  {
   "cell_type": "markdown",
   "metadata": {},
   "source": [
    "df_new_players are all players we put in over our names_list, which arn't in *players* "
   ]
  },
  {
   "cell_type": "code",
   "execution_count": 10,
   "metadata": {},
   "outputs": [],
   "source": [
    "df_new_player = df_merge_import_alternative_liquipedia[df_merge_import_alternative_liquipedia['liquipedia_name'] \n",
    "                                                         .isna()].drop(columns=['liquipedia_name'])"
   ]
  },
  {
   "cell_type": "markdown",
   "metadata": {},
   "source": [
    "## Push new Names to *alternative_names*"
   ]
  },
  {
   "cell_type": "code",
   "execution_count": 11,
   "metadata": {},
   "outputs": [],
   "source": [
    "list_new_player = df_new_player['import_name'].to_list()\n",
    "list_liquipedia_name = df_liquipedia_name['liquipedia_name'].to_list()\n",
    "list_new_player"
   ]
  },
  {
   "cell_type": "markdown",
   "metadata": {},
   "source": [
    " Check similarity "
   ]
  },
  {
   "cell_type": "code",
   "execution_count": 13,
   "metadata": {},
   "outputs": [],
   "source": [
    "similar_name = []\n",
    "for i in list_new_player :\n",
    "    for j in list_liquipedia_name:\n",
    "        if i == j:\n",
    "            pass\n",
    "        elif  Levenshtein.jaro(i,j) > 0.75:\n",
    "            similar_name.append([j,i])\n",
    "df_similar_name = pd.DataFrame(similar_name,columns=['liquipedia_name','import_name'])"
   ]
  },
  {
   "cell_type": "markdown",
   "metadata": {},
   "source": [
    "#### Controll\n",
    "***This list must be controlled before pushed!***"
   ]
  },
  {
   "cell_type": "code",
   "execution_count": 14,
   "metadata": {},
   "outputs": [
    {
     "data": {
      "text/html": [
       "<div>\n",
       "<style scoped>\n",
       "    .dataframe tbody tr th:only-of-type {\n",
       "        vertical-align: middle;\n",
       "    }\n",
       "\n",
       "    .dataframe tbody tr th {\n",
       "        vertical-align: top;\n",
       "    }\n",
       "\n",
       "    .dataframe thead th {\n",
       "        text-align: right;\n",
       "    }\n",
       "</style>\n",
       "<table border=\"1\" class=\"dataframe\">\n",
       "  <thead>\n",
       "    <tr style=\"text-align: right;\">\n",
       "      <th></th>\n",
       "      <th>liquipedia_name</th>\n",
       "      <th>import_name</th>\n",
       "    </tr>\n",
       "  </thead>\n",
       "  <tbody>\n",
       "    <tr>\n",
       "      <th>0</th>\n",
       "      <td>L3S Coco</td>\n",
       "      <td>L3Scoco</td>\n",
       "    </tr>\n",
       "    <tr>\n",
       "      <th>1</th>\n",
       "      <td>l3s coco</td>\n",
       "      <td>L3Scoco</td>\n",
       "    </tr>\n",
       "    <tr>\n",
       "      <th>2</th>\n",
       "      <td>Texita</td>\n",
       "      <td>texita2</td>\n",
       "    </tr>\n",
       "    <tr>\n",
       "      <th>3</th>\n",
       "      <td>Vomendeth</td>\n",
       "      <td>Vomendethh</td>\n",
       "    </tr>\n",
       "    <tr>\n",
       "      <th>4</th>\n",
       "      <td>simplyw0jtek</td>\n",
       "      <td>simplywojtek</td>\n",
       "    </tr>\n",
       "    <tr>\n",
       "      <th>5</th>\n",
       "      <td>LastKardax</td>\n",
       "      <td>Laras</td>\n",
       "    </tr>\n",
       "    <tr>\n",
       "      <th>6</th>\n",
       "      <td>Betrayal</td>\n",
       "      <td>betrayal_tft</td>\n",
       "    </tr>\n",
       "    <tr>\n",
       "      <th>7</th>\n",
       "      <td>Xus0o</td>\n",
       "      <td>xus0o</td>\n",
       "    </tr>\n",
       "    <tr>\n",
       "      <th>8</th>\n",
       "      <td>Double61</td>\n",
       "      <td>KCDouble61</td>\n",
       "    </tr>\n",
       "    <tr>\n",
       "      <th>9</th>\n",
       "      <td>Ryko</td>\n",
       "      <td>Zyko</td>\n",
       "    </tr>\n",
       "    <tr>\n",
       "      <th>10</th>\n",
       "      <td>ZyK0o</td>\n",
       "      <td>Zyko</td>\n",
       "    </tr>\n",
       "    <tr>\n",
       "      <th>11</th>\n",
       "      <td>Xperion</td>\n",
       "      <td>PCSXperion</td>\n",
       "    </tr>\n",
       "    <tr>\n",
       "      <th>12</th>\n",
       "      <td>Wet Jungler</td>\n",
       "      <td>WetJungler</td>\n",
       "    </tr>\n",
       "    <tr>\n",
       "      <th>13</th>\n",
       "      <td>Ging</td>\n",
       "      <td>Ginggg</td>\n",
       "    </tr>\n",
       "    <tr>\n",
       "      <th>14</th>\n",
       "      <td>Catalyst TFT</td>\n",
       "      <td>Catalyst</td>\n",
       "    </tr>\n",
       "    <tr>\n",
       "      <th>15</th>\n",
       "      <td>PMKLeftoverture</td>\n",
       "      <td>Leftoverture</td>\n",
       "    </tr>\n",
       "    <tr>\n",
       "      <th>16</th>\n",
       "      <td>6dot</td>\n",
       "      <td>6Dot</td>\n",
       "    </tr>\n",
       "    <tr>\n",
       "      <th>17</th>\n",
       "      <td>MattbLack</td>\n",
       "      <td>mattblacktft91</td>\n",
       "    </tr>\n",
       "    <tr>\n",
       "      <th>18</th>\n",
       "      <td>Reishi</td>\n",
       "      <td>Deisik</td>\n",
       "    </tr>\n",
       "    <tr>\n",
       "      <th>19</th>\n",
       "      <td>Cynarr</td>\n",
       "      <td>Cynar</td>\n",
       "    </tr>\n",
       "    <tr>\n",
       "      <th>20</th>\n",
       "      <td>Laellana</td>\n",
       "      <td>lallana</td>\n",
       "    </tr>\n",
       "    <tr>\n",
       "      <th>21</th>\n",
       "      <td>Portuguese Babe</td>\n",
       "      <td>PortugueseBabe</td>\n",
       "    </tr>\n",
       "  </tbody>\n",
       "</table>\n",
       "</div>"
      ],
      "text/plain": [
       "    liquipedia_name     import_name\n",
       "0          L3S Coco         L3Scoco\n",
       "1          l3s coco         L3Scoco\n",
       "2            Texita         texita2\n",
       "3         Vomendeth      Vomendethh\n",
       "4      simplyw0jtek    simplywojtek\n",
       "5        LastKardax           Laras\n",
       "6          Betrayal    betrayal_tft\n",
       "7             Xus0o           xus0o\n",
       "8          Double61      KCDouble61\n",
       "9              Ryko            Zyko\n",
       "10            ZyK0o            Zyko\n",
       "11          Xperion      PCSXperion\n",
       "12      Wet Jungler      WetJungler\n",
       "13             Ging          Ginggg\n",
       "14     Catalyst TFT        Catalyst\n",
       "15  PMKLeftoverture    Leftoverture\n",
       "16             6dot            6Dot\n",
       "17        MattbLack  mattblacktft91\n",
       "18           Reishi          Deisik\n",
       "19           Cynarr           Cynar\n",
       "20         Laellana         lallana\n",
       "21  Portuguese Babe  PortugueseBabe"
      ]
     },
     "execution_count": 14,
     "metadata": {},
     "output_type": "execute_result"
    }
   ],
   "source": [
    "df_similar_name"
   ]
  },
  {
   "cell_type": "markdown",
   "metadata": {},
   "source": [
    "Do some magic here"
   ]
  },
  {
   "cell_type": "code",
   "execution_count": 15,
   "metadata": {},
   "outputs": [
    {
     "data": {
      "text/html": [
       "<div>\n",
       "<style scoped>\n",
       "    .dataframe tbody tr th:only-of-type {\n",
       "        vertical-align: middle;\n",
       "    }\n",
       "\n",
       "    .dataframe tbody tr th {\n",
       "        vertical-align: top;\n",
       "    }\n",
       "\n",
       "    .dataframe thead th {\n",
       "        text-align: right;\n",
       "    }\n",
       "</style>\n",
       "<table border=\"1\" class=\"dataframe\">\n",
       "  <thead>\n",
       "    <tr style=\"text-align: right;\">\n",
       "      <th></th>\n",
       "      <th>liquipedia_name</th>\n",
       "      <th>import_name</th>\n",
       "    </tr>\n",
       "  </thead>\n",
       "  <tbody>\n",
       "    <tr>\n",
       "      <th>0</th>\n",
       "      <td>TSAROU</td>\n",
       "      <td>TSAROU WINS</td>\n",
       "    </tr>\n",
       "    <tr>\n",
       "      <th>1</th>\n",
       "      <td>ZeulEnache</td>\n",
       "      <td>BG ZeulEnache</td>\n",
       "    </tr>\n",
       "  </tbody>\n",
       "</table>\n",
       "</div>"
      ],
      "text/plain": [
       "  liquipedia_name    import_name\n",
       "0          TSAROU    TSAROU WINS\n",
       "1      ZeulEnache  BG ZeulEnache"
      ]
     },
     "execution_count": 15,
     "metadata": {},
     "output_type": "execute_result"
    }
   ],
   "source": [
    "df_similar_name = df_similar_name.iloc[[0,1]]\n",
    "\n",
    "df_similar_name"
   ]
  },
  {
   "cell_type": "markdown",
   "metadata": {},
   "source": [
    "#### Data push\n",
    "**Hier ist der Push in die Database, be sure**\n",
    "\n",
    "The datafram has to be established"
   ]
  },
  {
   "cell_type": "code",
   "execution_count": 16,
   "metadata": {},
   "outputs": [],
   "source": [
    "## ACHTUNG é ist das selbe wie e\n",
    "df_similar_name_push = pd.merge(\n",
    "                                df_similar_name,df_liquipedia_name[['liquipedia_name','player_id']], how='left',\n",
    "                                left_on= 'liquipedia_name', right_on='liquipedia_name').drop(columns=['liquipedia_name'])\n",
    "\n"
   ]
  },
  {
   "cell_type": "code",
   "execution_count": 17,
   "metadata": {},
   "outputs": [],
   "source": [
    "#df_player_import['name_lower'] = df_player_import['import_name'].apply(lambda x : x.lower())\n",
    "\n",
    "df_similar_name_push = (pd.merge(df_similar_name_push,df_player_import,how='left', left_on='import_name',right_on='import_name')\n",
    "                        .rename(columns={'import_name': 'player_name'}))\n"
   ]
  },
  {
   "cell_type": "code",
   "execution_count": 18,
   "metadata": {},
   "outputs": [
    {
     "data": {
      "text/html": [
       "<div>\n",
       "<style scoped>\n",
       "    .dataframe tbody tr th:only-of-type {\n",
       "        vertical-align: middle;\n",
       "    }\n",
       "\n",
       "    .dataframe tbody tr th {\n",
       "        vertical-align: top;\n",
       "    }\n",
       "\n",
       "    .dataframe thead th {\n",
       "        text-align: right;\n",
       "    }\n",
       "</style>\n",
       "<table border=\"1\" class=\"dataframe\">\n",
       "  <thead>\n",
       "    <tr style=\"text-align: right;\">\n",
       "      <th></th>\n",
       "      <th>player_name</th>\n",
       "      <th>player_id</th>\n",
       "    </tr>\n",
       "  </thead>\n",
       "  <tbody>\n",
       "    <tr>\n",
       "      <th>0</th>\n",
       "      <td>TSAROU WINS</td>\n",
       "      <td>90</td>\n",
       "    </tr>\n",
       "    <tr>\n",
       "      <th>1</th>\n",
       "      <td>BG ZeulEnache</td>\n",
       "      <td>141</td>\n",
       "    </tr>\n",
       "    <tr>\n",
       "      <th>2</th>\n",
       "      <td>LiquidSnoodyboo</td>\n",
       "      <td>105</td>\n",
       "    </tr>\n",
       "    <tr>\n",
       "      <th>3</th>\n",
       "      <td>IZI Lyyyress</td>\n",
       "      <td>49</td>\n",
       "    </tr>\n",
       "    <tr>\n",
       "      <th>4</th>\n",
       "      <td>S1C ODESZA</td>\n",
       "      <td>79</td>\n",
       "    </tr>\n",
       "    <tr>\n",
       "      <th>5</th>\n",
       "      <td>ANO shreddin</td>\n",
       "      <td>117</td>\n",
       "    </tr>\n",
       "    <tr>\n",
       "      <th>6</th>\n",
       "      <td>Ging GG1</td>\n",
       "      <td>37</td>\n",
       "    </tr>\n",
       "    <tr>\n",
       "      <th>7</th>\n",
       "      <td>SLY Xperion</td>\n",
       "      <td>85</td>\n",
       "    </tr>\n",
       "    <tr>\n",
       "      <th>8</th>\n",
       "      <td>OPS Jimray3</td>\n",
       "      <td>51</td>\n",
       "    </tr>\n",
       "    <tr>\n",
       "      <th>9</th>\n",
       "      <td>br0ken99</td>\n",
       "      <td>18</td>\n",
       "    </tr>\n",
       "    <tr>\n",
       "      <th>10</th>\n",
       "      <td>KC Canbizz</td>\n",
       "      <td>22</td>\n",
       "    </tr>\n",
       "    <tr>\n",
       "      <th>11</th>\n",
       "      <td>DV1 Piechu</td>\n",
       "      <td>86</td>\n",
       "    </tr>\n",
       "    <tr>\n",
       "      <th>12</th>\n",
       "      <td>Z10 traviscwat</td>\n",
       "      <td>127</td>\n",
       "    </tr>\n",
       "    <tr>\n",
       "      <th>13</th>\n",
       "      <td>OGP Vomendeth</td>\n",
       "      <td>135</td>\n",
       "    </tr>\n",
       "    <tr>\n",
       "      <th>14</th>\n",
       "      <td>AEG PasDeBol</td>\n",
       "      <td>84</td>\n",
       "    </tr>\n",
       "    <tr>\n",
       "      <th>15</th>\n",
       "      <td>USM FlowDeRs</td>\n",
       "      <td>36</td>\n",
       "    </tr>\n",
       "    <tr>\n",
       "      <th>16</th>\n",
       "      <td>KC Double61</td>\n",
       "      <td>30</td>\n",
       "    </tr>\n",
       "    <tr>\n",
       "      <th>17</th>\n",
       "      <td>UTO Qetzer</td>\n",
       "      <td>91</td>\n",
       "    </tr>\n",
       "  </tbody>\n",
       "</table>\n",
       "</div>"
      ],
      "text/plain": [
       "        player_name  player_id\n",
       "0       TSAROU WINS         90\n",
       "1     BG ZeulEnache        141\n",
       "2   LiquidSnoodyboo        105\n",
       "3      IZI Lyyyress         49\n",
       "4        S1C ODESZA         79\n",
       "5      ANO shreddin        117\n",
       "6          Ging GG1         37\n",
       "7       SLY Xperion         85\n",
       "8       OPS Jimray3         51\n",
       "9          br0ken99         18\n",
       "10       KC Canbizz         22\n",
       "11       DV1 Piechu         86\n",
       "12   Z10 traviscwat        127\n",
       "13    OGP Vomendeth        135\n",
       "14     AEG PasDeBol         84\n",
       "15     USM FlowDeRs         36\n",
       "16      KC Double61         30\n",
       "17       UTO Qetzer         91"
      ]
     },
     "execution_count": 18,
     "metadata": {},
     "output_type": "execute_result"
    }
   ],
   "source": [
    "df_similar_name_push"
   ]
  },
  {
   "cell_type": "code",
   "execution_count": null,
   "metadata": {},
   "outputs": [],
   "source": [
    "                         .drop(columns=['import_name_x','name'])\n",
    "                         .rename(columns={'import_name': 'player_name'})"
   ]
  },
  {
   "cell_type": "code",
   "execution_count": 21,
   "metadata": {},
   "outputs": [
    {
     "name": "stdout",
     "output_type": "stream",
     "text": [
      "The alternative_name table was imported successfully.\n"
     ]
    }
   ],
   "source": [
    "sql_int.push_to_database(df_similar_name_push,'alternative_name',sql_int.get_engine_alchemy(),schema)\n"
   ]
  },
  {
   "cell_type": "markdown",
   "metadata": {},
   "source": [
    "## Push new names in *player*"
   ]
  },
  {
   "cell_type": "code",
   "execution_count": 21,
   "metadata": {},
   "outputs": [],
   "source": [
    "df_new_player = pd.merge(df_new_player,df_similar_name, how='left',\n",
    "                              left_on= 'import_name', right_on='import_name')  ## on player name cause all with same liquipedia_name are already out\n",
    "df_new_player = df_new_player[df_new_player['liquipedia_name'].isna()]\n",
    "df_new_player = df_new_player.drop(columns=['liquipedia_name'])\n",
    "\n",
    "df_new_player = pd.merge(df_new_player,df_player_import,how='left',)\n",
    "new_player_push = df_new_player.rename(columns={'import_name' : 'liquipedia_name','country_flag' : 'country_id'})"
   ]
  },
  {
   "cell_type": "code",
   "execution_count": 22,
   "metadata": {},
   "outputs": [
    {
     "data": {
      "text/html": [
       "<div>\n",
       "<style scoped>\n",
       "    .dataframe tbody tr th:only-of-type {\n",
       "        vertical-align: middle;\n",
       "    }\n",
       "\n",
       "    .dataframe tbody tr th {\n",
       "        vertical-align: top;\n",
       "    }\n",
       "\n",
       "    .dataframe thead th {\n",
       "        text-align: right;\n",
       "    }\n",
       "</style>\n",
       "<table border=\"1\" class=\"dataframe\">\n",
       "  <thead>\n",
       "    <tr style=\"text-align: right;\">\n",
       "      <th></th>\n",
       "      <th>liquipedia_name</th>\n",
       "    </tr>\n",
       "  </thead>\n",
       "  <tbody>\n",
       "    <tr>\n",
       "      <th>0</th>\n",
       "      <td>z10 lelouch</td>\n",
       "    </tr>\n",
       "    <tr>\n",
       "      <th>1</th>\n",
       "      <td>l3s coco</td>\n",
       "    </tr>\n",
       "    <tr>\n",
       "      <th>2</th>\n",
       "      <td>S1C xus0o</td>\n",
       "    </tr>\n",
       "    <tr>\n",
       "      <th>3</th>\n",
       "      <td>SNG HYPNO</td>\n",
       "    </tr>\n",
       "    <tr>\n",
       "      <th>4</th>\n",
       "      <td>IZI Bränk</td>\n",
       "    </tr>\n",
       "    <tr>\n",
       "      <th>5</th>\n",
       "      <td>Aug1</td>\n",
       "    </tr>\n",
       "  </tbody>\n",
       "</table>\n",
       "</div>"
      ],
      "text/plain": [
       "  liquipedia_name\n",
       "0     z10 lelouch\n",
       "1        l3s coco\n",
       "2       S1C xus0o\n",
       "3       SNG HYPNO\n",
       "4       IZI Bränk\n",
       "5            Aug1"
      ]
     },
     "execution_count": 22,
     "metadata": {},
     "output_type": "execute_result"
    }
   ],
   "source": [
    "new_player_push"
   ]
  },
  {
   "cell_type": "code",
   "execution_count": 23,
   "metadata": {},
   "outputs": [
    {
     "name": "stdout",
     "output_type": "stream",
     "text": [
      "The player table was imported successfully.\n"
     ]
    }
   ],
   "source": [
    "sql_int.push_to_database(new_player_push,'player',sql_int.get_engine_alchemy(),schema)"
   ]
  },
  {
   "cell_type": "markdown",
   "metadata": {},
   "source": [
    "## Push these new names in alternative_names"
   ]
  },
  {
   "cell_type": "code",
   "execution_count": 24,
   "metadata": {},
   "outputs": [],
   "source": [
    "sql_query = f'''select liquipedia_name, player_id from {schema}.player;'''\n",
    "df_liquipedia_name = pd.DataFrame(sql_int.get_data_alchemy(sql_query),\n",
    "                                columns=['liquipedia_name','player_id'])\n",
    "df_alternative_name_push = (pd.merge(new_player_push['liquipedia_name'],df_liquipedia_name,how='left', left_on='liquipedia_name',right_on='liquipedia_name')\n",
    "                             .rename(columns={'liquipedia_name':'player_name'})\n",
    "                             )"
   ]
  },
  {
   "cell_type": "code",
   "execution_count": 25,
   "metadata": {},
   "outputs": [
    {
     "name": "stdout",
     "output_type": "stream",
     "text": [
      "The alternative_names table was imported successfully.\n"
     ]
    }
   ],
   "source": [
    "sql_int.push_to_database(df_alternative_name_push,'alternative_name',sql_int.get_engine_alchemy(),schema)"
   ]
  },
  {
   "cell_type": "code",
   "execution_count": null,
   "metadata": {},
   "outputs": [],
   "source": []
  },
  {
   "cell_type": "code",
   "execution_count": null,
   "metadata": {},
   "outputs": [],
   "source": []
  },
  {
   "cell_type": "code",
   "execution_count": null,
   "metadata": {},
   "outputs": [],
   "source": [
    "df #updating data in dataframe wäre der dataframe mit den liquid_namen mit flagge. (die vorher keine gehabt haben)\n",
    "\n",
    "s_update = \"\" #String of updations\n",
    "\n",
    "# Loop through the data frame\n",
    "\n",
    "for i in range(len(df)):\n",
    "    s_update += \"update players set country_name = '%s' where liquipedia_name = '%s';\" %(df[country_name][i], df[liquipedia_name][i])"
   ]
  }
 ],
 "metadata": {
  "kernelspec": {
   "display_name": "data_base_Sep23",
   "language": "python",
   "name": "python3"
  },
  "language_info": {
   "codemirror_mode": {
    "name": "ipython",
    "version": 3
   },
   "file_extension": ".py",
   "mimetype": "text/x-python",
   "name": "python",
   "nbconvert_exporter": "python",
   "pygments_lexer": "ipython3",
   "version": "3.11.5"
  }
 },
 "nbformat": 4,
 "nbformat_minor": 2
}
