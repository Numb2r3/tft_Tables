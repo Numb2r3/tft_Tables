{
 "cells": [
  {
   "cell_type": "code",
   "execution_count": 2,
   "metadata": {},
   "outputs": [],
   "source": [
    "import pandas as pd\n",
    "import sql_functions as sql_int\n",
    "import Levenshtein"
   ]
  },
  {
   "cell_type": "code",
   "execution_count": 3,
   "metadata": {},
   "outputs": [],
   "source": [
    "schema = 'tft_table'\n",
    "table = 'alternative_name'\n",
    "player_import = pd.read_csv('/program/tft_overview/tft_Tables/data_sheets/name_list_esl_summer_2022.csv',\n",
    "                         dtype={'liquipedia_name' : str,'country_flag' : str} )\n",
    "df_player_import = player_import.copy()\n",
    "\n",
    "sql_query = f'SELECT player_id,player_name FROM {schema}.{table};'\n",
    "alternative_name = pd.DataFrame(sql_int.get_data_alchemy(sql_query),\n",
    "                                    columns=['player_id','player_name'])\n",
    "df_alternative_name = alternative_name.copy()\n",
    "\n",
    "## we don't take the player_identitys now to reduce the sql_querys"
   ]
  },
  {
   "cell_type": "markdown",
   "metadata": {},
   "source": [
    "### Testing for duplikates in the imported Names"
   ]
  },
  {
   "cell_type": "code",
   "execution_count": 4,
   "metadata": {},
   "outputs": [
    {
     "data": {
      "text/html": [
       "<div>\n",
       "<style scoped>\n",
       "    .dataframe tbody tr th:only-of-type {\n",
       "        vertical-align: middle;\n",
       "    }\n",
       "\n",
       "    .dataframe tbody tr th {\n",
       "        vertical-align: top;\n",
       "    }\n",
       "\n",
       "    .dataframe thead th {\n",
       "        text-align: right;\n",
       "    }\n",
       "</style>\n",
       "<table border=\"1\" class=\"dataframe\">\n",
       "  <thead>\n",
       "    <tr style=\"text-align: right;\">\n",
       "      <th></th>\n",
       "      <th>import_name</th>\n",
       "      <th>country_flag</th>\n",
       "    </tr>\n",
       "  </thead>\n",
       "  <tbody>\n",
       "  </tbody>\n",
       "</table>\n",
       "</div>"
      ],
      "text/plain": [
       "Empty DataFrame\n",
       "Columns: [import_name, country_flag]\n",
       "Index: []"
      ]
     },
     "execution_count": 4,
     "metadata": {},
     "output_type": "execute_result"
    }
   ],
   "source": [
    "df_player_import = df_player_import.rename(columns={'liquipedia_name' : 'import_name'})\n",
    "df_player_import = df_player_import.drop_duplicates()\n",
    "df_player_import[df_player_import.duplicated(keep = False, subset=['import_name']) == True].sort_values(by='import_name')"
   ]
  },
  {
   "cell_type": "markdown",
   "metadata": {},
   "source": [
    "#### delete double entrys"
   ]
  },
  {
   "cell_type": "code",
   "execution_count": null,
   "metadata": {},
   "outputs": [],
   "source": [
    "df_player_import.drop([148],inplace=True)"
   ]
  },
  {
   "cell_type": "markdown",
   "metadata": {},
   "source": [
    "### Testing which name is new\n"
   ]
  },
  {
   "cell_type": "code",
   "execution_count": 5,
   "metadata": {},
   "outputs": [],
   "source": [
    "# Return only new entrys in a dataframe\n",
    "def check_new(df_new,df_exist,columns):\n",
    "    df_new = df_new.copy()\n",
    "    df_exist = df_exist.copy()\n",
    "    df_exist['already_exist'] = 'Yes'\n",
    "    drop_columns = df_exist.columns.difference(df_new.columns)\n",
    "    df_concat = pd.concat([df_exist,df_new],ignore_index=True)\n",
    "    df_concat = (df_concat\n",
    "                 .drop_duplicates(subset=[columns],keep=False)\n",
    "                 .query('already_exist != \"Yes\"')\n",
    "                 .drop(columns=drop_columns)\n",
    "    )\n",
    "    return df_concat\n"
   ]
  },
  {
   "cell_type": "code",
   "execution_count": 6,
   "metadata": {},
   "outputs": [
    {
     "data": {
      "text/html": [
       "<div>\n",
       "<style scoped>\n",
       "    .dataframe tbody tr th:only-of-type {\n",
       "        vertical-align: middle;\n",
       "    }\n",
       "\n",
       "    .dataframe tbody tr th {\n",
       "        vertical-align: top;\n",
       "    }\n",
       "\n",
       "    .dataframe thead th {\n",
       "        text-align: right;\n",
       "    }\n",
       "</style>\n",
       "<table border=\"1\" class=\"dataframe\">\n",
       "  <thead>\n",
       "    <tr style=\"text-align: right;\">\n",
       "      <th></th>\n",
       "      <th>import_name</th>\n",
       "      <th>country_flag</th>\n",
       "    </tr>\n",
       "  </thead>\n",
       "  <tbody>\n",
       "    <tr>\n",
       "      <th>1365</th>\n",
       "      <td>gluteus</td>\n",
       "      <td>de</td>\n",
       "    </tr>\n",
       "    <tr>\n",
       "      <th>1366</th>\n",
       "      <td>SquG3</td>\n",
       "      <td>de</td>\n",
       "    </tr>\n",
       "    <tr>\n",
       "      <th>1367</th>\n",
       "      <td>salvyyy</td>\n",
       "      <td>de</td>\n",
       "    </tr>\n",
       "    <tr>\n",
       "      <th>1368</th>\n",
       "      <td>TFTMarx</td>\n",
       "      <td>de</td>\n",
       "    </tr>\n",
       "    <tr>\n",
       "      <th>1369</th>\n",
       "      <td>5454XD</td>\n",
       "      <td>de</td>\n",
       "    </tr>\n",
       "    <tr>\n",
       "      <th>1370</th>\n",
       "      <td>kevinparkertft</td>\n",
       "      <td>de</td>\n",
       "    </tr>\n",
       "    <tr>\n",
       "      <th>1371</th>\n",
       "      <td>Giovanni1996</td>\n",
       "      <td>de</td>\n",
       "    </tr>\n",
       "    <tr>\n",
       "      <th>1372</th>\n",
       "      <td>jonobo</td>\n",
       "      <td>NaN</td>\n",
       "    </tr>\n",
       "    <tr>\n",
       "      <th>1373</th>\n",
       "      <td>phinphinthao</td>\n",
       "      <td>de</td>\n",
       "    </tr>\n",
       "    <tr>\n",
       "      <th>1375</th>\n",
       "      <td>Momor vig</td>\n",
       "      <td>de</td>\n",
       "    </tr>\n",
       "    <tr>\n",
       "      <th>1376</th>\n",
       "      <td>leduck_lol</td>\n",
       "      <td>de</td>\n",
       "    </tr>\n",
       "    <tr>\n",
       "      <th>1377</th>\n",
       "      <td>JohnSchmieri</td>\n",
       "      <td>de</td>\n",
       "    </tr>\n",
       "    <tr>\n",
       "      <th>1378</th>\n",
       "      <td>Memoooo</td>\n",
       "      <td>de</td>\n",
       "    </tr>\n",
       "    <tr>\n",
       "      <th>1380</th>\n",
       "      <td>Artilleryy</td>\n",
       "      <td>de</td>\n",
       "    </tr>\n",
       "  </tbody>\n",
       "</table>\n",
       "</div>"
      ],
      "text/plain": [
       "         import_name country_flag\n",
       "1365         gluteus           de\n",
       "1366           SquG3           de\n",
       "1367         salvyyy           de\n",
       "1368         TFTMarx           de\n",
       "1369          5454XD           de\n",
       "1370  kevinparkertft           de\n",
       "1371    Giovanni1996           de\n",
       "1372          jonobo          NaN\n",
       "1373    phinphinthao           de\n",
       "1375       Momor vig           de\n",
       "1376      leduck_lol           de\n",
       "1377    JohnSchmieri           de\n",
       "1378         Memoooo           de\n",
       "1380      Artilleryy           de"
      ]
     },
     "execution_count": 6,
     "metadata": {},
     "output_type": "execute_result"
    }
   ],
   "source": [
    "df_player_import = check_new(df_player_import,\n",
    "                             df_alternative_name.rename(columns={'player_name' :'import_name' }),\n",
    "                             'import_name')\n",
    "df_player_import"
   ]
  },
  {
   "cell_type": "code",
   "execution_count": 7,
   "metadata": {},
   "outputs": [
    {
     "data": {
      "text/html": [
       "<div>\n",
       "<style scoped>\n",
       "    .dataframe tbody tr th:only-of-type {\n",
       "        vertical-align: middle;\n",
       "    }\n",
       "\n",
       "    .dataframe tbody tr th {\n",
       "        vertical-align: top;\n",
       "    }\n",
       "\n",
       "    .dataframe thead th {\n",
       "        text-align: right;\n",
       "    }\n",
       "</style>\n",
       "<table border=\"1\" class=\"dataframe\">\n",
       "  <thead>\n",
       "    <tr style=\"text-align: right;\">\n",
       "      <th></th>\n",
       "      <th>player_name</th>\n",
       "      <th>import_name</th>\n",
       "    </tr>\n",
       "  </thead>\n",
       "  <tbody>\n",
       "    <tr>\n",
       "      <th>0</th>\n",
       "      <td>Salvyyy</td>\n",
       "      <td>salvyyy</td>\n",
       "    </tr>\n",
       "    <tr>\n",
       "      <th>1</th>\n",
       "      <td>TFT Mavee</td>\n",
       "      <td>TFTMarx</td>\n",
       "    </tr>\n",
       "    <tr>\n",
       "      <th>2</th>\n",
       "      <td>5454</td>\n",
       "      <td>5454XD</td>\n",
       "    </tr>\n",
       "    <tr>\n",
       "      <th>3</th>\n",
       "      <td>Kevin Parker</td>\n",
       "      <td>kevinparkertft</td>\n",
       "    </tr>\n",
       "    <tr>\n",
       "      <th>4</th>\n",
       "      <td>oskijnorbnose</td>\n",
       "      <td>jonobo</td>\n",
       "    </tr>\n",
       "    <tr>\n",
       "      <th>5</th>\n",
       "      <td>PhinPhinThao</td>\n",
       "      <td>phinphinthao</td>\n",
       "    </tr>\n",
       "    <tr>\n",
       "      <th>6</th>\n",
       "      <td>Momor Vig</td>\n",
       "      <td>Momor vig</td>\n",
       "    </tr>\n",
       "    <tr>\n",
       "      <th>7</th>\n",
       "      <td>Momo Hirai</td>\n",
       "      <td>Momor vig</td>\n",
       "    </tr>\n",
       "    <tr>\n",
       "      <th>8</th>\n",
       "      <td>Memo</td>\n",
       "      <td>Memoooo</td>\n",
       "    </tr>\n",
       "  </tbody>\n",
       "</table>\n",
       "</div>"
      ],
      "text/plain": [
       "     player_name     import_name\n",
       "0        Salvyyy         salvyyy\n",
       "1      TFT Mavee         TFTMarx\n",
       "2           5454          5454XD\n",
       "3   Kevin Parker  kevinparkertft\n",
       "4  oskijnorbnose          jonobo\n",
       "5   PhinPhinThao    phinphinthao\n",
       "6      Momor Vig       Momor vig\n",
       "7     Momo Hirai       Momor vig\n",
       "8           Memo         Memoooo"
      ]
     },
     "execution_count": 7,
     "metadata": {},
     "output_type": "execute_result"
    }
   ],
   "source": [
    "list_new_player = df_player_import['import_name'].to_list()\n",
    "list_all_name = df_alternative_name['player_name'].to_list()\n",
    "\n",
    "similar_name = []\n",
    "for i in list_new_player :\n",
    "    for j in list_all_name:\n",
    "        if i == j:\n",
    "            pass\n",
    "        elif  Levenshtein.jaro(i,j) > 0.75:\n",
    "            similar_name.append([j,i])\n",
    "            \n",
    "df_similar_name = (pd.DataFrame(similar_name,columns=['player_name','import_name']))\n",
    "df_similar_name"
   ]
  },
  {
   "cell_type": "markdown",
   "metadata": {},
   "source": [
    "Do some magic here"
   ]
  },
  {
   "cell_type": "code",
   "execution_count": 8,
   "metadata": {},
   "outputs": [
    {
     "data": {
      "text/html": [
       "<div>\n",
       "<style scoped>\n",
       "    .dataframe tbody tr th:only-of-type {\n",
       "        vertical-align: middle;\n",
       "    }\n",
       "\n",
       "    .dataframe tbody tr th {\n",
       "        vertical-align: top;\n",
       "    }\n",
       "\n",
       "    .dataframe thead th {\n",
       "        text-align: right;\n",
       "    }\n",
       "</style>\n",
       "<table border=\"1\" class=\"dataframe\">\n",
       "  <thead>\n",
       "    <tr style=\"text-align: right;\">\n",
       "      <th></th>\n",
       "      <th>player_name</th>\n",
       "      <th>import_name</th>\n",
       "    </tr>\n",
       "  </thead>\n",
       "  <tbody>\n",
       "    <tr>\n",
       "      <th>0</th>\n",
       "      <td>Salvyyy</td>\n",
       "      <td>salvyyy</td>\n",
       "    </tr>\n",
       "    <tr>\n",
       "      <th>2</th>\n",
       "      <td>5454</td>\n",
       "      <td>5454XD</td>\n",
       "    </tr>\n",
       "    <tr>\n",
       "      <th>3</th>\n",
       "      <td>Kevin Parker</td>\n",
       "      <td>kevinparkertft</td>\n",
       "    </tr>\n",
       "    <tr>\n",
       "      <th>5</th>\n",
       "      <td>PhinPhinThao</td>\n",
       "      <td>phinphinthao</td>\n",
       "    </tr>\n",
       "    <tr>\n",
       "      <th>6</th>\n",
       "      <td>Momor Vig</td>\n",
       "      <td>Momor vig</td>\n",
       "    </tr>\n",
       "    <tr>\n",
       "      <th>8</th>\n",
       "      <td>Memo</td>\n",
       "      <td>Memoooo</td>\n",
       "    </tr>\n",
       "  </tbody>\n",
       "</table>\n",
       "</div>"
      ],
      "text/plain": [
       "    player_name     import_name\n",
       "0       Salvyyy         salvyyy\n",
       "2          5454          5454XD\n",
       "3  Kevin Parker  kevinparkertft\n",
       "5  PhinPhinThao    phinphinthao\n",
       "6     Momor Vig       Momor vig\n",
       "8          Memo         Memoooo"
      ]
     },
     "execution_count": 8,
     "metadata": {},
     "output_type": "execute_result"
    }
   ],
   "source": [
    "df_similar_name = df_similar_name.iloc[[0,2,3,5,6,8]]\n",
    "df_similar_name"
   ]
  },
  {
   "cell_type": "markdown",
   "metadata": {},
   "source": [
    "### Alternative_name table"
   ]
  },
  {
   "cell_type": "code",
   "execution_count": 9,
   "metadata": {},
   "outputs": [
    {
     "name": "stdout",
     "output_type": "stream",
     "text": [
      "The alternative_name table was imported successfully.\n"
     ]
    }
   ],
   "source": [
    "df_similar_name = (pd.merge(df_similar_name,df_alternative_name,how='left',left_on='player_name',right_on='player_name')\n",
    "                   .drop(columns=['player_name'])\n",
    "                   .rename(columns={'import_name': 'player_name'}))\n",
    "sql_int.push_to_database(df_similar_name,table,sql_int.get_engine_alchemy(),schema)"
   ]
  },
  {
   "cell_type": "markdown",
   "metadata": {},
   "source": [
    "### Player table"
   ]
  },
  {
   "cell_type": "code",
   "execution_count": 10,
   "metadata": {},
   "outputs": [],
   "source": [
    "df_new_liquidpedia = (check_new(df_player_import,df_similar_name.rename(columns={'player_name':'import_name'}),'import_name')\n",
    "                      .rename(columns={'import_name':'liquipedia_name','country':'country_id','country_flag':'country_id'})\n",
    "                      )\n",
    "table = 'player'\n",
    "\n",
    "sql_int.push_to_database(df_new_liquidpedia,table,sql_int.get_engine_alchemy(),schema)"
   ]
  },
  {
   "cell_type": "code",
   "execution_count": 13,
   "metadata": {},
   "outputs": [
    {
     "data": {
      "text/html": [
       "<div>\n",
       "<style scoped>\n",
       "    .dataframe tbody tr th:only-of-type {\n",
       "        vertical-align: middle;\n",
       "    }\n",
       "\n",
       "    .dataframe tbody tr th {\n",
       "        vertical-align: top;\n",
       "    }\n",
       "\n",
       "    .dataframe thead th {\n",
       "        text-align: right;\n",
       "    }\n",
       "</style>\n",
       "<table border=\"1\" class=\"dataframe\">\n",
       "  <thead>\n",
       "    <tr style=\"text-align: right;\">\n",
       "      <th></th>\n",
       "      <th>player_name</th>\n",
       "      <th>player_id</th>\n",
       "    </tr>\n",
       "  </thead>\n",
       "  <tbody>\n",
       "    <tr>\n",
       "      <th>0</th>\n",
       "      <td>gluteus</td>\n",
       "      <td>1237</td>\n",
       "    </tr>\n",
       "    <tr>\n",
       "      <th>1</th>\n",
       "      <td>SquG3</td>\n",
       "      <td>1238</td>\n",
       "    </tr>\n",
       "    <tr>\n",
       "      <th>2</th>\n",
       "      <td>TFTMarx</td>\n",
       "      <td>1239</td>\n",
       "    </tr>\n",
       "    <tr>\n",
       "      <th>3</th>\n",
       "      <td>Giovanni1996</td>\n",
       "      <td>1240</td>\n",
       "    </tr>\n",
       "    <tr>\n",
       "      <th>4</th>\n",
       "      <td>jonobo</td>\n",
       "      <td>1241</td>\n",
       "    </tr>\n",
       "  </tbody>\n",
       "</table>\n",
       "</div>"
      ],
      "text/plain": [
       "    player_name  player_id\n",
       "0       gluteus       1237\n",
       "1         SquG3       1238\n",
       "2       TFTMarx       1239\n",
       "3  Giovanni1996       1240\n",
       "4        jonobo       1241"
      ]
     },
     "execution_count": 13,
     "metadata": {},
     "output_type": "execute_result"
    }
   ],
   "source": [
    "sql_query = f'''\n",
    "            select player_id,liquipedia_name from {schema}.{table};\n",
    "            '''\n",
    "\n",
    "df_liquipedia_name = pd.DataFrame(sql_int.get_data_alchemy(sql_query),\n",
    "                                  columns=['player_id','player_name'])\n",
    "\n",
    "df_new_liquidpedia = (df_new_liquidpedia.rename(columns={'liquipedia_name': 'player_name'})\n",
    "                      .drop(columns=['country_id'], errors='ignore'))\n",
    "df_new_liquidpedia = pd.merge(df_new_liquidpedia,df_liquipedia_name,how='left')\n",
    "df_new_liquidpedia.head(5)"
   ]
  },
  {
   "cell_type": "code",
   "execution_count": 14,
   "metadata": {},
   "outputs": [
    {
     "name": "stdout",
     "output_type": "stream",
     "text": [
      "The alternative_name table was imported successfully.\n"
     ]
    }
   ],
   "source": [
    "\n",
    "table = 'alternative_name'\n",
    "sql_int.push_to_database(df_new_liquidpedia,table,sql_int.get_engine_alchemy(),schema)"
   ]
  }
 ],
 "metadata": {
  "kernelspec": {
   "display_name": "data_base_Sep23",
   "language": "python",
   "name": "python3"
  },
  "language_info": {
   "codemirror_mode": {
    "name": "ipython",
    "version": 3
   },
   "file_extension": ".py",
   "mimetype": "text/x-python",
   "name": "python",
   "nbconvert_exporter": "python",
   "pygments_lexer": "ipython3",
   "version": "3.11.5"
  }
 },
 "nbformat": 4,
 "nbformat_minor": 2
}
